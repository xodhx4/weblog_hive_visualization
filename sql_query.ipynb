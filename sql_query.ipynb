{
 "cells": [
  {
   "cell_type": "code",
   "execution_count": 1,
   "metadata": {},
   "outputs": [
    {
     "name": "stdout",
     "output_type": "stream",
     "text": [
      "[('default',)]\n"
     ]
    }
   ],
   "source": [
    "from pyhive import hive\n",
    "cursor = hive.connect('localhost').cursor()\n"
   ]
  },
  {
   "cell_type": "code",
   "execution_count": 51,
   "metadata": {},
   "outputs": [
    {
     "name": "stdout",
     "output_type": "stream",
     "text": [
      "[('default',)]\n"
     ]
    }
   ],
   "source": [
    "cursor.execute('SHOW databases')\n",
    "print(cursor.fetchall())"
   ]
  },
  {
   "cell_type": "code",
   "execution_count": 52,
   "metadata": {},
   "outputs": [],
   "source": [
    "create_table_query = \"\"\"\n",
    "CREATE TABLE origin(ip STRING, Time STRING, url STRING, status INT)\n",
    "ROW FORMAT DELIMITED\n",
    "FIELDS TERMINATED BY ','\n",
    "LINES TERMINATED BY '\\n'\n",
    "STORED AS TEXTFILE\"\"\""
   ]
  },
  {
   "cell_type": "code",
   "execution_count": 53,
   "metadata": {},
   "outputs": [],
   "source": [
    "cursor.execute(create_table_query)"
   ]
  },
  {
   "cell_type": "code",
   "execution_count": 54,
   "metadata": {},
   "outputs": [],
   "source": [
    "cursor.execute(\"DESCRIBE ORIGIN\")"
   ]
  },
  {
   "cell_type": "code",
   "execution_count": 55,
   "metadata": {},
   "outputs": [
    {
     "name": "stdout",
     "output_type": "stream",
     "text": [
      "[('ip', 'string', ''), ('time', 'string', ''), ('url', 'string', ''), ('status', 'int', '')]\n"
     ]
    }
   ],
   "source": [
    "print(cursor.fetchall())"
   ]
  },
  {
   "cell_type": "code",
   "execution_count": 56,
   "metadata": {},
   "outputs": [],
   "source": [
    "load_data_query = \"\"\"\n",
    "LOAD DATA INPATH '/user/data/weblog.csv'\n",
    "OVERWRITE INTO TABLE origin\"\"\""
   ]
  },
  {
   "cell_type": "code",
   "execution_count": 58,
   "metadata": {},
   "outputs": [],
   "source": [
    "cursor.execute(load_data_query)"
   ]
  },
  {
   "cell_type": "code",
   "execution_count": 59,
   "metadata": {},
   "outputs": [
    {
     "name": "stdout",
     "output_type": "stream",
     "text": [
      "[('IP', 'Time', 'URL', None), ('10.128.2.1', '[29/Nov/2017:06:58:55', 'GET /login.php HTTP/1.1', 200), ('10.128.2.1', '[29/Nov/2017:06:59:02', 'POST /process.php HTTP/1.1', 302)]\n"
     ]
    }
   ],
   "source": [
    "cursor.execute(\"SELECT * FROM origin LIMIT 3\")\n",
    "print(cursor.fetchall())"
   ]
  },
  {
   "cell_type": "code",
   "execution_count": 60,
   "metadata": {},
   "outputs": [],
   "source": [
    "create_table_query2 = \"\"\"\n",
    "CREATE TABLE origin2(ip STRING, Time STRING, url STRING, status INT)\n",
    "ROW FORMAT DELIMITED\n",
    "FIELDS TERMINATED BY ','\n",
    "LINES TERMINATED BY '\\n'\n",
    "STORED AS TEXTFILE\"\"\"\n",
    "load_data_query2 = \"\"\"\n",
    "LOAD DATA INPATH '/user/data/webLog.csv'\n",
    "OVERWRITE INTO TABLE origin2\"\"\""
   ]
  },
  {
   "cell_type": "code",
   "execution_count": 61,
   "metadata": {},
   "outputs": [],
   "source": [
    "cursor.execute(create_table_query2)\n",
    "cursor.execute(load_data_query2)"
   ]
  },
  {
   "cell_type": "code",
   "execution_count": 62,
   "metadata": {},
   "outputs": [
    {
     "name": "stdout",
     "output_type": "stream",
     "text": [
      "[(16008,)]\n"
     ]
    }
   ],
   "source": [
    "cursor.execute(\"SELECT count(*) from origin\")\n",
    "print(cursor.fetchall())"
   ]
  },
  {
   "cell_type": "code",
   "execution_count": 63,
   "metadata": {},
   "outputs": [],
   "source": [
    "# cursor.execute(\"DROP TABLE origin\")\n",
    "# cursor.execute(\"DROP TABLE origin2\")"
   ]
  },
  {
   "cell_type": "code",
   "execution_count": 64,
   "metadata": {},
   "outputs": [],
   "source": [
    "weblog_table_query = \"\"\"\n",
    "CREATE TABLE weblog(ip STRING,\n",
    "\n",
    "month STRING, year STRING, hour STRING, method STRING, page STRING, status INT)\n",
    "\n",
    " ROW FORMAT DELIMITED\n",
    "\n",
    " FIELDS TERMINATED BY ','\n",
    "\n",
    " LINES TERMINATED BY '\\n'\n",
    "\n",
    " STORED AS TEXTFILE\"\"\""
   ]
  },
  {
   "cell_type": "code",
   "execution_count": 65,
   "metadata": {},
   "outputs": [],
   "source": [
    "cursor.execute(weblog_table_query)"
   ]
  },
  {
   "cell_type": "code",
   "execution_count": 66,
   "metadata": {},
   "outputs": [],
   "source": [
    "insert_query1 = \"\"\"\n",
    "insert into weblog select ip, split(time,'[/]')[1] as month, substring(split(time,'[/]')[2],0,4) as year, substring(split(time,'[/]')[2],6,2) as hour, split(url,' ')[0] as method, split(split(url,' ')[1],'[?]')[0] as page, status from origin where ip like '%.%.%.%'\"\"\"\n",
    "insert_query2 = \"\"\"\n",
    "insert into weblog select ip, split(time,'[/]')[1] as month, substring(split(time,'[/]')[2],0,4) as year, substring(split(time,'[/]')[2],6,2) as hour, split(url,' ')[0] as method, split(split(url,' ')[1],'[?]')[0] as page, status from origin2 where ip like '%.%.%.%'\"\"\""
   ]
  },
  {
   "cell_type": "code",
   "execution_count": 67,
   "metadata": {},
   "outputs": [],
   "source": [
    "cursor.execute(insert_query1)\n",
    "cursor.execute(insert_query2)"
   ]
  },
  {
   "cell_type": "code",
   "execution_count": 68,
   "metadata": {},
   "outputs": [
    {
     "name": "stdout",
     "output_type": "stream",
     "text": [
      "[('10.128.2.1', 'Nov', '2017', '06', 'GET', '/login.php', 200), ('10.128.2.1', 'Nov', '2017', '06', 'POST', '/process.php', 302), ('10.128.2.1', 'Nov', '2017', '06', 'GET', '/home.php', 200)]\n"
     ]
    }
   ],
   "source": [
    "cursor.execute(\"SELECT * from weblog LIMIT 3\")\n",
    "print(cursor.fetchall())"
   ]
  },
  {
   "cell_type": "code",
   "execution_count": 69,
   "metadata": {},
   "outputs": [],
   "source": [
    "data_query = \"\"\"\n",
    "SELECT COUNT(1), ip FROM weblog GROUP BY ip;\n",
    "SELECT COUNT(1), ip, hour FROM weblog GROUP BY ip, hour CLUSTER BY ip;\n",
    "SELECT COUNT(1), ip, month FROM weblog GROUP BY ip, month CLUSTER BY ip;\n",
    "SELECT COUNT(1), ip, year FROM weblog GROUP BY ip, year CLUSTER BY ip;\n",
    "SELECT COUNT(1), ip, method FROM weblog GROUP BY ip, method CLUSTER BY ip;\n",
    "SELECT COUNT(1), ip, page FROM weblog GROUP BY ip, page CLUSTER BY ip;\n",
    "SELECT COUNT(1), ip, status FROM weblog GROUP BY ip, status CLUSTER BY ip;\n",
    "\n",
    "SELECT COUNT(1), hour FROM weblog GROUP BY hour;\n",
    "SELECT COUNT(1), hour, ip FROM weblog GROUP BY hour, ip CLUSTER BY hour;\n",
    "SELECT COUNT(1), hour, month FROM weblog GROUP BY hour, month CLUSTER BY hour;\n",
    "SELECT COUNT(1), hour, year FROM weblog GROUP BY hour, year CLUSTER BY hour;\n",
    "SELECT COUNT(1), hour, method FROM weblog GROUP BY hour, method CLUSTER BY hour;\n",
    "SELECT COUNT(1), hour, page FROM weblog GROUP BY hour, page CLUSTER BY hour;\n",
    "SELECT COUNT(1), hour, status FROM weblog GROUP BY hour, status CLUSTER BY hour;\n",
    "\n",
    "SELECT COUNT(1), month FROM weblog GROUP BY month;\n",
    "SELECT COUNT(1), month, ip FROM weblog GROUP BY month, ip CLUSTER BY month;\n",
    "SELECT COUNT(1), month, hour FROM weblog GROUP BY month, hour CLUSTER BY month;\n",
    "SELECT COUNT(1), month, year FROM weblog GROUP BY month, year CLUSTER BY month;\n",
    "SELECT COUNT(1), month, method FROM weblog GROUP BY month, method CLUSTER BY month;\n",
    "SELECT COUNT(1), month, page FROM weblog GROUP BY month, page CLUSTER BY month;\n",
    "SELECT COUNT(1), month, status FROM weblog GROUP BY month, status CLUSTER BY month;\n",
    "\n",
    "SELECT COUNT(1), year FROM weblog GROUP BY year;\n",
    "SELECT COUNT(1), year, ip FROM weblog GROUP BY year, ip CLUSTER BY year;\n",
    "SELECT COUNT(1), year, hour FROM weblog GROUP BY year, hour CLUSTER BY year;\n",
    "SELECT COUNT(1), year, month FROM weblog GROUP BY year, month CLUSTER BY year;\n",
    "SELECT COUNT(1), year, method FROM weblog GROUP BY year, method CLUSTER BY year;\n",
    "SELECT COUNT(1), year, page FROM weblog GROUP BY year, page CLUSTER BY year;\n",
    "SELECT COUNT(1), year, status FROM weblog GROUP BY year, status CLUSTER BY year;\n",
    "\n",
    "SELECT COUNT(1), method FROM weblog GROUP BY method;\n",
    "SELECT COUNT(1), method, ip FROM weblog GROUP BY method, ip CLUSTER BY method;\n",
    "SELECT COUNT(1), method, hour FROM weblog GROUP BY method, hour CLUSTER BY method;\n",
    "SELECT COUNT(1), method, month FROM weblog GROUP BY method, month CLUSTER BY method;\n",
    "SELECT COUNT(1), method, year FROM weblog GROUP BY method, year CLUSTER BY method;\n",
    "SELECT COUNT(1), method, page FROM weblog GROUP BY method, page CLUSTER BY method;\n",
    "SELECT COUNT(1), method, status FROM weblog GROUP BY method, status CLUSTER BY method;\n",
    "\n",
    "SELECT COUNT(1), page FROM weblog GROUP BY page;\n",
    "SELECT COUNT(1), page, ip FROM weblog GROUP BY page, ip CLUSTER BY page;\n",
    "SELECT COUNT(1), page, hour FROM weblog GROUP BY page, hour CLUSTER BY page;\n",
    "SELECT COUNT(1), page, month FROM weblog GROUP BY page, month CLUSTER BY page;\n",
    "SELECT COUNT(1), page, year FROM weblog GROUP BY page, year CLUSTER BY page;\n",
    "SELECT COUNT(1), page, method FROM weblog GROUP BY page, method CLUSTER BY page;\n",
    "SELECT COUNT(1), page, status FROM weblog GROUP BY page, status CLUSTER BY page;\n",
    "\n",
    "SELECT COUNT(1), status FROM weblog GROUP BY status;\n",
    "SELECT COUNT(1), status, ip FROM weblog GROUP BY status, ip CLUSTER BY status;\n",
    "SELECT COUNT(1), status, hour FROM weblog GROUP BY status, hour CLUSTER BY status;\n",
    "SELECT COUNT(1), status, month FROM weblog GROUP BY status, month CLUSTER BY status;\n",
    "SELECT COUNT(1), status, year FROM weblog GROUP BY status, year CLUSTER BY status;\n",
    "SELECT COUNT(1), status, method FROM weblog GROUP BY status, method CLUSTER BY status;\n",
    "SELECT COUNT(1), status, page FROM weblog GROUP BY status, page CLUSTER BY status;\"\"\""
   ]
  },
  {
   "cell_type": "code",
   "execution_count": 72,
   "metadata": {},
   "outputs": [
    {
     "name": "stdout",
     "output_type": "stream",
     "text": [
      "0st : \n",
      "SELECT COUNT(1), ip FROM weblog GROUP BY ip\n",
      "1st : \n",
      "SELECT COUNT(1), ip, hour FROM weblog GROUP BY ip, hour CLUSTER BY ip\n",
      "2st : \n",
      "SELECT COUNT(1), ip, month FROM weblog GROUP BY ip, month CLUSTER BY ip\n",
      "3st : \n",
      "SELECT COUNT(1), ip, year FROM weblog GROUP BY ip, year CLUSTER BY ip\n",
      "4st : \n",
      "SELECT COUNT(1), ip, method FROM weblog GROUP BY ip, method CLUSTER BY ip\n",
      "5st : \n",
      "SELECT COUNT(1), ip, page FROM weblog GROUP BY ip, page CLUSTER BY ip\n",
      "6st : \n",
      "SELECT COUNT(1), ip, status FROM weblog GROUP BY ip, status CLUSTER BY ip\n",
      "7st : \n",
      "\n",
      "SELECT COUNT(1), hour FROM weblog GROUP BY hour\n",
      "8st : \n",
      "SELECT COUNT(1), hour, ip FROM weblog GROUP BY hour, ip CLUSTER BY hour\n",
      "9st : \n",
      "SELECT COUNT(1), hour, month FROM weblog GROUP BY hour, month CLUSTER BY hour\n",
      "10st : \n",
      "SELECT COUNT(1), hour, year FROM weblog GROUP BY hour, year CLUSTER BY hour\n",
      "11st : \n",
      "SELECT COUNT(1), hour, method FROM weblog GROUP BY hour, method CLUSTER BY hour\n",
      "12st : \n",
      "SELECT COUNT(1), hour, page FROM weblog GROUP BY hour, page CLUSTER BY hour\n",
      "13st : \n",
      "SELECT COUNT(1), hour, status FROM weblog GROUP BY hour, status CLUSTER BY hour\n",
      "14st : \n",
      "\n",
      "SELECT COUNT(1), month FROM weblog GROUP BY month\n",
      "15st : \n",
      "SELECT COUNT(1), month, ip FROM weblog GROUP BY month, ip CLUSTER BY month\n",
      "16st : \n",
      "SELECT COUNT(1), month, hour FROM weblog GROUP BY month, hour CLUSTER BY month\n",
      "17st : \n",
      "SELECT COUNT(1), month, year FROM weblog GROUP BY month, year CLUSTER BY month\n",
      "18st : \n",
      "SELECT COUNT(1), month, method FROM weblog GROUP BY month, method CLUSTER BY month\n",
      "19st : \n",
      "SELECT COUNT(1), month, page FROM weblog GROUP BY month, page CLUSTER BY month\n",
      "20st : \n",
      "SELECT COUNT(1), month, status FROM weblog GROUP BY month, status CLUSTER BY month\n",
      "21st : \n",
      "\n",
      "SELECT COUNT(1), year FROM weblog GROUP BY year\n",
      "22st : \n",
      "SELECT COUNT(1), year, ip FROM weblog GROUP BY year, ip CLUSTER BY year\n",
      "23st : \n",
      "SELECT COUNT(1), year, hour FROM weblog GROUP BY year, hour CLUSTER BY year\n",
      "24st : \n",
      "SELECT COUNT(1), year, month FROM weblog GROUP BY year, month CLUSTER BY year\n",
      "25st : \n",
      "SELECT COUNT(1), year, method FROM weblog GROUP BY year, method CLUSTER BY year\n",
      "26st : \n",
      "SELECT COUNT(1), year, page FROM weblog GROUP BY year, page CLUSTER BY year\n",
      "27st : \n",
      "SELECT COUNT(1), year, status FROM weblog GROUP BY year, status CLUSTER BY year\n",
      "28st : \n",
      "\n",
      "SELECT COUNT(1), method FROM weblog GROUP BY method\n",
      "29st : \n",
      "SELECT COUNT(1), method, ip FROM weblog GROUP BY method, ip CLUSTER BY method\n",
      "30st : \n",
      "SELECT COUNT(1), method, hour FROM weblog GROUP BY method, hour CLUSTER BY method\n",
      "31st : \n",
      "SELECT COUNT(1), method, month FROM weblog GROUP BY method, month CLUSTER BY method\n",
      "32st : \n",
      "SELECT COUNT(1), method, year FROM weblog GROUP BY method, year CLUSTER BY method\n",
      "33st : \n",
      "SELECT COUNT(1), method, page FROM weblog GROUP BY method, page CLUSTER BY method\n",
      "34st : \n",
      "SELECT COUNT(1), method, status FROM weblog GROUP BY method, status CLUSTER BY method\n",
      "35st : \n",
      "\n",
      "SELECT COUNT(1), page FROM weblog GROUP BY page\n",
      "36st : \n",
      "SELECT COUNT(1), page, ip FROM weblog GROUP BY page, ip CLUSTER BY page\n",
      "37st : \n",
      "SELECT COUNT(1), page, hour FROM weblog GROUP BY page, hour CLUSTER BY page\n",
      "38st : \n",
      "SELECT COUNT(1), page, month FROM weblog GROUP BY page, month CLUSTER BY page\n",
      "39st : \n",
      "SELECT COUNT(1), page, year FROM weblog GROUP BY page, year CLUSTER BY page\n",
      "40st : \n",
      "SELECT COUNT(1), page, method FROM weblog GROUP BY page, method CLUSTER BY page\n",
      "41st : \n",
      "SELECT COUNT(1), page, status FROM weblog GROUP BY page, status CLUSTER BY page\n",
      "42st : \n",
      "\n",
      "SELECT COUNT(1), status FROM weblog GROUP BY status\n",
      "43st : \n",
      "SELECT COUNT(1), status, ip FROM weblog GROUP BY status, ip CLUSTER BY status\n",
      "44st : \n",
      "SELECT COUNT(1), status, hour FROM weblog GROUP BY status, hour CLUSTER BY status\n",
      "45st : \n",
      "SELECT COUNT(1), status, month FROM weblog GROUP BY status, month CLUSTER BY status\n",
      "46st : \n",
      "SELECT COUNT(1), status, year FROM weblog GROUP BY status, year CLUSTER BY status\n",
      "47st : \n",
      "SELECT COUNT(1), status, method FROM weblog GROUP BY status, method CLUSTER BY status\n",
      "48st : \n",
      "SELECT COUNT(1), status, page FROM weblog GROUP BY status, page CLUSTER BY status\n",
      "49st : \n"
     ]
    }
   ],
   "source": [
    "queries = data_query.split(\";\")\n",
    "for i, query in enumerate(queries):\n",
    "    print(f\"{i}st : {query}\")"
   ]
  },
  {
   "cell_type": "code",
   "execution_count": 73,
   "metadata": {},
   "outputs": [
    {
     "ename": "OperationalError",
     "evalue": "TExecuteStatementResp(status=TStatus(statusCode=3, infoMessages=[\"*org.apache.hive.service.cli.HiveSQLException:Error while compiling statement: FAILED: ParseException line 1:0 cannot recognize input near '<EOF>' '<EOF>' '<EOF>':28:27\", 'org.apache.hive.service.cli.operation.Operation:toSQLException:Operation.java:380', 'org.apache.hive.service.cli.operation.SQLOperation:prepare:SQLOperation.java:206', 'org.apache.hive.service.cli.operation.SQLOperation:runInternal:SQLOperation.java:290', 'org.apache.hive.service.cli.operation.Operation:run:Operation.java:320', 'org.apache.hive.service.cli.session.HiveSessionImpl:executeStatementInternal:HiveSessionImpl.java:530', 'org.apache.hive.service.cli.session.HiveSessionImpl:executeStatement:HiveSessionImpl.java:506', 'sun.reflect.GeneratedMethodAccessor6:invoke::-1', 'sun.reflect.DelegatingMethodAccessorImpl:invoke:DelegatingMethodAccessorImpl.java:43', 'java.lang.reflect.Method:invoke:Method.java:498', 'org.apache.hive.service.cli.session.HiveSessionProxy:invoke:HiveSessionProxy.java:78', 'org.apache.hive.service.cli.session.HiveSessionProxy:access$000:HiveSessionProxy.java:36', 'org.apache.hive.service.cli.session.HiveSessionProxy$1:run:HiveSessionProxy.java:63', 'java.security.AccessController:doPrivileged:AccessController.java:-2', 'javax.security.auth.Subject:doAs:Subject.java:422', 'org.apache.hadoop.security.UserGroupInformation:doAs:UserGroupInformation.java:1886', 'org.apache.hive.service.cli.session.HiveSessionProxy:invoke:HiveSessionProxy.java:59', 'com.sun.proxy.$Proxy35:executeStatement::-1', 'org.apache.hive.service.cli.CLIService:executeStatement:CLIService.java:280', 'org.apache.hive.service.cli.thrift.ThriftCLIService:ExecuteStatement:ThriftCLIService.java:531', 'org.apache.hive.service.rpc.thrift.TCLIService$Processor$ExecuteStatement:getResult:TCLIService.java:1437', 'org.apache.hive.service.rpc.thrift.TCLIService$Processor$ExecuteStatement:getResult:TCLIService.java:1422', 'org.apache.thrift.ProcessFunction:process:ProcessFunction.java:39', 'org.apache.thrift.TBaseProcessor:process:TBaseProcessor.java:39', 'org.apache.hive.service.auth.TSetIpAddressProcessor:process:TSetIpAddressProcessor.java:56', 'org.apache.thrift.server.TThreadPoolServer$WorkerProcess:run:TThreadPoolServer.java:286', 'java.util.concurrent.ThreadPoolExecutor:runWorker:ThreadPoolExecutor.java:1149', 'java.util.concurrent.ThreadPoolExecutor$Worker:run:ThreadPoolExecutor.java:624', 'java.lang.Thread:run:Thread.java:748', \"*org.apache.hadoop.hive.ql.parse.ParseException:line 1:0 cannot recognize input near '<EOF>' '<EOF>' '<EOF>':33:6\", 'org.apache.hadoop.hive.ql.parse.ParseDriver:parse:ParseDriver.java:211', 'org.apache.hadoop.hive.ql.parse.ParseUtils:parse:ParseUtils.java:77', 'org.apache.hadoop.hive.ql.parse.ParseUtils:parse:ParseUtils.java:70', 'org.apache.hadoop.hive.ql.Driver:compile:Driver.java:468', 'org.apache.hadoop.hive.ql.Driver:compileInternal:Driver.java:1317', 'org.apache.hadoop.hive.ql.Driver:compileAndRespond:Driver.java:1295', 'org.apache.hive.service.cli.operation.SQLOperation:prepare:SQLOperation.java:204'], sqlState='42000', errorCode=40000, errorMessage=\"Error while compiling statement: FAILED: ParseException line 1:0 cannot recognize input near '<EOF>' '<EOF>' '<EOF>'\"), operationHandle=None)",
     "output_type": "error",
     "traceback": [
      "\u001b[0;31m---------------------------------------------------------------------------\u001b[0m",
      "\u001b[0;31mOperationalError\u001b[0m                          Traceback (most recent call last)",
      "\u001b[0;32m<ipython-input-73-42793fbbb2ea>\u001b[0m in \u001b[0;36m<module>\u001b[0;34m()\u001b[0m\n\u001b[1;32m      1\u001b[0m \u001b[0manswer_list\u001b[0m \u001b[0;34m=\u001b[0m \u001b[0mlist\u001b[0m\u001b[0;34m(\u001b[0m\u001b[0;34m)\u001b[0m\u001b[0;34m\u001b[0m\u001b[0m\n\u001b[1;32m      2\u001b[0m \u001b[0;32mfor\u001b[0m \u001b[0mquery\u001b[0m \u001b[0;32min\u001b[0m \u001b[0mqueries\u001b[0m\u001b[0;34m:\u001b[0m\u001b[0;34m\u001b[0m\u001b[0m\n\u001b[0;32m----> 3\u001b[0;31m     \u001b[0mcursor\u001b[0m\u001b[0;34m.\u001b[0m\u001b[0mexecute\u001b[0m\u001b[0;34m(\u001b[0m\u001b[0mquery\u001b[0m\u001b[0;34m)\u001b[0m\u001b[0;34m\u001b[0m\u001b[0m\n\u001b[0m\u001b[1;32m      4\u001b[0m     \u001b[0manswer_list\u001b[0m\u001b[0;34m.\u001b[0m\u001b[0mappend\u001b[0m\u001b[0;34m(\u001b[0m\u001b[0mcursor\u001b[0m\u001b[0;34m.\u001b[0m\u001b[0mfetchall\u001b[0m\u001b[0;34m(\u001b[0m\u001b[0;34m)\u001b[0m\u001b[0;34m)\u001b[0m\u001b[0;34m\u001b[0m\u001b[0m\n",
      "\u001b[0;32m/opt/conda/lib/python3.6/site-packages/pyhive/hive.py\u001b[0m in \u001b[0;36mexecute\u001b[0;34m(self, operation, parameters, async)\u001b[0m\n\u001b[1;32m    355\u001b[0m         \u001b[0m_logger\u001b[0m\u001b[0;34m.\u001b[0m\u001b[0mdebug\u001b[0m\u001b[0;34m(\u001b[0m\u001b[0mreq\u001b[0m\u001b[0;34m)\u001b[0m\u001b[0;34m\u001b[0m\u001b[0m\n\u001b[1;32m    356\u001b[0m         \u001b[0mresponse\u001b[0m \u001b[0;34m=\u001b[0m \u001b[0mself\u001b[0m\u001b[0;34m.\u001b[0m\u001b[0m_connection\u001b[0m\u001b[0;34m.\u001b[0m\u001b[0mclient\u001b[0m\u001b[0;34m.\u001b[0m\u001b[0mExecuteStatement\u001b[0m\u001b[0;34m(\u001b[0m\u001b[0mreq\u001b[0m\u001b[0;34m)\u001b[0m\u001b[0;34m\u001b[0m\u001b[0m\n\u001b[0;32m--> 357\u001b[0;31m         \u001b[0m_check_status\u001b[0m\u001b[0;34m(\u001b[0m\u001b[0mresponse\u001b[0m\u001b[0;34m)\u001b[0m\u001b[0;34m\u001b[0m\u001b[0m\n\u001b[0m\u001b[1;32m    358\u001b[0m         \u001b[0mself\u001b[0m\u001b[0;34m.\u001b[0m\u001b[0m_operationHandle\u001b[0m \u001b[0;34m=\u001b[0m \u001b[0mresponse\u001b[0m\u001b[0;34m.\u001b[0m\u001b[0moperationHandle\u001b[0m\u001b[0;34m\u001b[0m\u001b[0m\n\u001b[1;32m    359\u001b[0m \u001b[0;34m\u001b[0m\u001b[0m\n",
      "\u001b[0;32m/opt/conda/lib/python3.6/site-packages/pyhive/hive.py\u001b[0m in \u001b[0;36m_check_status\u001b[0;34m(response)\u001b[0m\n\u001b[1;32m    485\u001b[0m     \u001b[0m_logger\u001b[0m\u001b[0;34m.\u001b[0m\u001b[0mdebug\u001b[0m\u001b[0;34m(\u001b[0m\u001b[0mresponse\u001b[0m\u001b[0;34m)\u001b[0m\u001b[0;34m\u001b[0m\u001b[0m\n\u001b[1;32m    486\u001b[0m     \u001b[0;32mif\u001b[0m \u001b[0mresponse\u001b[0m\u001b[0;34m.\u001b[0m\u001b[0mstatus\u001b[0m\u001b[0;34m.\u001b[0m\u001b[0mstatusCode\u001b[0m \u001b[0;34m!=\u001b[0m \u001b[0mttypes\u001b[0m\u001b[0;34m.\u001b[0m\u001b[0mTStatusCode\u001b[0m\u001b[0;34m.\u001b[0m\u001b[0mSUCCESS_STATUS\u001b[0m\u001b[0;34m:\u001b[0m\u001b[0;34m\u001b[0m\u001b[0m\n\u001b[0;32m--> 487\u001b[0;31m         \u001b[0;32mraise\u001b[0m \u001b[0mOperationalError\u001b[0m\u001b[0;34m(\u001b[0m\u001b[0mresponse\u001b[0m\u001b[0;34m)\u001b[0m\u001b[0;34m\u001b[0m\u001b[0m\n\u001b[0m",
      "\u001b[0;31mOperationalError\u001b[0m: TExecuteStatementResp(status=TStatus(statusCode=3, infoMessages=[\"*org.apache.hive.service.cli.HiveSQLException:Error while compiling statement: FAILED: ParseException line 1:0 cannot recognize input near '<EOF>' '<EOF>' '<EOF>':28:27\", 'org.apache.hive.service.cli.operation.Operation:toSQLException:Operation.java:380', 'org.apache.hive.service.cli.operation.SQLOperation:prepare:SQLOperation.java:206', 'org.apache.hive.service.cli.operation.SQLOperation:runInternal:SQLOperation.java:290', 'org.apache.hive.service.cli.operation.Operation:run:Operation.java:320', 'org.apache.hive.service.cli.session.HiveSessionImpl:executeStatementInternal:HiveSessionImpl.java:530', 'org.apache.hive.service.cli.session.HiveSessionImpl:executeStatement:HiveSessionImpl.java:506', 'sun.reflect.GeneratedMethodAccessor6:invoke::-1', 'sun.reflect.DelegatingMethodAccessorImpl:invoke:DelegatingMethodAccessorImpl.java:43', 'java.lang.reflect.Method:invoke:Method.java:498', 'org.apache.hive.service.cli.session.HiveSessionProxy:invoke:HiveSessionProxy.java:78', 'org.apache.hive.service.cli.session.HiveSessionProxy:access$000:HiveSessionProxy.java:36', 'org.apache.hive.service.cli.session.HiveSessionProxy$1:run:HiveSessionProxy.java:63', 'java.security.AccessController:doPrivileged:AccessController.java:-2', 'javax.security.auth.Subject:doAs:Subject.java:422', 'org.apache.hadoop.security.UserGroupInformation:doAs:UserGroupInformation.java:1886', 'org.apache.hive.service.cli.session.HiveSessionProxy:invoke:HiveSessionProxy.java:59', 'com.sun.proxy.$Proxy35:executeStatement::-1', 'org.apache.hive.service.cli.CLIService:executeStatement:CLIService.java:280', 'org.apache.hive.service.cli.thrift.ThriftCLIService:ExecuteStatement:ThriftCLIService.java:531', 'org.apache.hive.service.rpc.thrift.TCLIService$Processor$ExecuteStatement:getResult:TCLIService.java:1437', 'org.apache.hive.service.rpc.thrift.TCLIService$Processor$ExecuteStatement:getResult:TCLIService.java:1422', 'org.apache.thrift.ProcessFunction:process:ProcessFunction.java:39', 'org.apache.thrift.TBaseProcessor:process:TBaseProcessor.java:39', 'org.apache.hive.service.auth.TSetIpAddressProcessor:process:TSetIpAddressProcessor.java:56', 'org.apache.thrift.server.TThreadPoolServer$WorkerProcess:run:TThreadPoolServer.java:286', 'java.util.concurrent.ThreadPoolExecutor:runWorker:ThreadPoolExecutor.java:1149', 'java.util.concurrent.ThreadPoolExecutor$Worker:run:ThreadPoolExecutor.java:624', 'java.lang.Thread:run:Thread.java:748', \"*org.apache.hadoop.hive.ql.parse.ParseException:line 1:0 cannot recognize input near '<EOF>' '<EOF>' '<EOF>':33:6\", 'org.apache.hadoop.hive.ql.parse.ParseDriver:parse:ParseDriver.java:211', 'org.apache.hadoop.hive.ql.parse.ParseUtils:parse:ParseUtils.java:77', 'org.apache.hadoop.hive.ql.parse.ParseUtils:parse:ParseUtils.java:70', 'org.apache.hadoop.hive.ql.Driver:compile:Driver.java:468', 'org.apache.hadoop.hive.ql.Driver:compileInternal:Driver.java:1317', 'org.apache.hadoop.hive.ql.Driver:compileAndRespond:Driver.java:1295', 'org.apache.hive.service.cli.operation.SQLOperation:prepare:SQLOperation.java:204'], sqlState='42000', errorCode=40000, errorMessage=\"Error while compiling statement: FAILED: ParseException line 1:0 cannot recognize input near '<EOF>' '<EOF>' '<EOF>'\"), operationHandle=None)"
     ]
    }
   ],
   "source": [
    "answer_list = list()\n",
    "for query in queries:\n",
    "    cursor.execute(query)\n",
    "    answer_list.append(cursor.fetchall())"
   ]
  },
  {
   "cell_type": "code",
   "execution_count": null,
   "metadata": {},
   "outputs": [],
   "source": []
  }
 ],
 "metadata": {
  "kernelspec": {
   "display_name": "Python 3",
   "language": "python",
   "name": "python3"
  },
  "language_info": {
   "codemirror_mode": {
    "name": "ipython",
    "version": 3
   },
   "file_extension": ".py",
   "mimetype": "text/x-python",
   "name": "python",
   "nbconvert_exporter": "python",
   "pygments_lexer": "ipython3",
   "version": "3.6.5"
  }
 },
 "nbformat": 4,
 "nbformat_minor": 2
}
